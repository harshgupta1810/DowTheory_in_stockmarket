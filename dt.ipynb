{
 "cells": [
  {
   "cell_type": "markdown",
   "metadata": {
    "collapsed": true,
    "pycharm": {
     "name": "#%% md\n"
    }
   },
   "source": [
    "Trend identification: Start by identifying the primary trend in the Indian stock market. Traders can use technical analysis tools such as moving averages, trend lines, or chart patterns to determine the overall direction of the market. This can help traders align their trading decisions with the prevailing trend.\n",
    "\n",
    "Confirmation of trend: Similar to the original Dow Theory, traders in the Indian stock market can look for confirmation by analyzing multiple market indices, such as the Nifty 50 or the BSE Sensex. If these indices are moving in the same direction, it can provide added confidence in the trend.\n",
    "\n",
    "Timing entries and exits: Use the secondary trends or corrections to time entries and exits. During secondary downtrends or corrections, traders may look for opportunities to sell or take profits. Conversely, during secondary uptrends, they may seek buying opportunities.\n",
    "\n",
    "Volume analysis: Analyze trading volume to validate the strength of the trend. Increasing volume during an uptrend or decreasing volume during a downtrend may support the continuation of the trend in the Indian stock market as well.\n",
    "\n",
    "Watch for trend reversals: Keep an eye out for potential trend reversals. Significant changes in price patterns, volume, or trend confirmation can provide early indications of a potential reversal. These signals can help traders adjust their positions or consider alternative strategies."
   ]
  },
  {
   "cell_type": "code",
   "execution_count": 1,
   "outputs": [],
   "source": [
    "import pandas as pd\n",
    "import yfinance as yf\n",
    "from datetime import date\n",
    "import matplotlib.pyplot as plt\n",
    "import numpy as np"
   ],
   "metadata": {
    "collapsed": false,
    "pycharm": {
     "name": "#%%\n"
    }
   }
  },
  {
   "cell_type": "code",
   "execution_count": 2,
   "outputs": [
    {
     "name": "stdout",
     "output_type": "stream",
     "text": [
      "              Open    High    Low   Close    Volume\n",
      "Date                                               \n",
      "2023-05-22  421.95  425.75  419.1  424.75  15421680\n",
      "2023-05-23  426.00  431.20  424.2  429.15   8732608\n",
      "2023-05-24  428.30  434.75  427.0  433.50  11479706\n",
      "2023-05-25  436.95  442.45  434.8  441.15  18204464\n",
      "2023-05-26  443.40  444.75  439.5  443.60  12995706\n"
     ]
    }
   ],
   "source": [
    "stocksymbols = 'ITC.NS'\n",
    "ticker = yf.Ticker(stocksymbols)\n",
    "end = date.today()\n",
    "start = \"2020-01-01\"\n",
    "df = ticker.history(interval=\"1d\",start=start,end=end)\n",
    "df.index = df.index.strftime('%d-%m-%y')\n",
    "df.index = pd.to_datetime(df.index, format='%d-%m-%y')\n",
    "df = df.loc[:,['Open','High','Low','Close','Volume']]\n",
    "df = df.round(2)\n",
    "print(df.tail())"
   ],
   "metadata": {
    "collapsed": false,
    "pycharm": {
     "name": "#%%\n"
    }
   }
  },
  {
   "cell_type": "code",
   "execution_count": 3,
   "outputs": [
    {
     "name": "stdout",
     "output_type": "stream",
     "text": [
      "                Open      High       Low     Close  Volume\n",
      "Date                                                      \n",
      "2023-05-22  18201.10  18335.25  18178.85  18314.40  262600\n",
      "2023-05-23  18362.90  18419.75  18324.20  18348.00  270400\n",
      "2023-05-24  18294.80  18392.60  18262.95  18285.40  232600\n",
      "2023-05-25  18268.90  18338.10  18202.40  18321.15  235900\n",
      "2023-05-26  18368.35  18508.55  18333.15  18499.35  198700\n"
     ]
    }
   ],
   "source": [
    "index = '^NSEI'\n",
    "ticker = yf.Ticker(index)\n",
    "end = date.today()\n",
    "start = \"2020-01-01\"\n",
    "nifty = ticker.history(interval=\"1d\",start=start,end=end)\n",
    "nifty.index = nifty.index.strftime('%d-%m-%y')\n",
    "nifty.index = pd.to_datetime(nifty.index, format='%d-%m-%y')\n",
    "nifty = nifty.loc[:,['Open','High','Low','Close','Volume']]\n",
    "nifty = nifty.round(2)\n",
    "print(nifty.tail())"
   ],
   "metadata": {
    "collapsed": false,
    "pycharm": {
     "name": "#%%\n"
    }
   }
  },
  {
   "cell_type": "code",
   "execution_count": 5,
   "outputs": [
    {
     "data": {
      "text/plain": "'Current Trend: Bullish (Upward Trend)\\nVolume Confirmation: Volume Does Not Confirm Trend'"
     },
     "execution_count": 5,
     "metadata": {},
     "output_type": "execute_result"
    }
   ],
   "source": [
    "import pandas as pd\n",
    "import numpy as np\n",
    "\n",
    "def analyze_stock_trends(stock_data, index_data):\n",
    "\n",
    "    moving_average_period=50\n",
    "    volume_threshold=1.5\n",
    "    \"\"\"\n",
    "    Analyzes stock trends using the Dow Theory principles.\n",
    "\n",
    "    Args:\n",
    "        stock_data (DataFrame): Historical stock price data for the specific stock.\n",
    "        index_data (DataFrame): Historical price data for the market index.\n",
    "        moving_average_period (int): The period for calculating the moving average (default: 50).\n",
    "        volume_threshold (float): The threshold for validating volume changes (default: 1.5).\n",
    "\n",
    "    Returns:\n",
    "        str: An indication of the prevailing trend based on the Dow Theory principles.\n",
    "    \"\"\"\n",
    "\n",
    "    # Calculate the moving averages for stock and index\n",
    "    stock_data['SMA'] = stock_data['Close'].rolling(window=moving_average_period).mean()\n",
    "    index_data['SMA'] = index_data['Close'].rolling(window=moving_average_period).mean()\n",
    "\n",
    "    # Determine the current trend\n",
    "    if stock_data['Close'].iloc[-1] > stock_data['SMA'].iloc[-1] and index_data['Close'].iloc[-1] > index_data['SMA'].iloc[-1]:\n",
    "        trend = \"Bullish (Upward Trend)\"\n",
    "    elif stock_data['Close'].iloc[-1] < stock_data['SMA'].iloc[-1] and index_data['Close'].iloc[-1] < index_data['SMA'].iloc[-1]:\n",
    "        trend = \"Bearish (Downward Trend)\"\n",
    "    else:\n",
    "        trend = \"Indecisive (No Clear Trend)\"\n",
    "\n",
    "    # Calculate the volume change\n",
    "    stock_data['VolumeChange'] = stock_data['Volume'].pct_change()\n",
    "\n",
    "    # Check for volume confirmation\n",
    "    if stock_data['VolumeChange'].iloc[-1] > volume_threshold:\n",
    "        volume_confirmation = \"Volume Confirms Trend\"\n",
    "    else:\n",
    "        volume_confirmation = \"Volume Does Not Confirm Trend\"\n",
    "\n",
    "    return f\"Current Trend: {trend}\\nVolume Confirmation: {volume_confirmation}\"\n",
    "trend = analyze_stock_trends(df,nifty)\n",
    "trend"
   ],
   "metadata": {
    "collapsed": false,
    "pycharm": {
     "name": "#%%\n"
    }
   }
  },
  {
   "cell_type": "code",
   "execution_count": null,
   "outputs": [],
   "source": [],
   "metadata": {
    "collapsed": false,
    "pycharm": {
     "name": "#%%\n"
    }
   }
  }
 ],
 "metadata": {
  "kernelspec": {
   "display_name": "Python 3",
   "language": "python",
   "name": "python3"
  },
  "language_info": {
   "codemirror_mode": {
    "name": "ipython",
    "version": 2
   },
   "file_extension": ".py",
   "mimetype": "text/x-python",
   "name": "python",
   "nbconvert_exporter": "python",
   "pygments_lexer": "ipython2",
   "version": "2.7.6"
  }
 },
 "nbformat": 4,
 "nbformat_minor": 0
}